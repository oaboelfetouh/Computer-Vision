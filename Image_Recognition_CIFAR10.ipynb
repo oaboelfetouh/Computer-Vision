{
  "nbformat": 4,
  "nbformat_minor": 0,
  "metadata": {
    "colab": {
      "name": "Image Recognition CIFAR10.ipynb",
      "provenance": [],
      "collapsed_sections": []
    },
    "kernelspec": {
      "display_name": "Python 3",
      "name": "python3"
    },
    "language_info": {
      "name": "python"
    }
  },
  "cells": [
    {
      "cell_type": "code",
      "metadata": {
        "id": "PuUKxBGSiz5y"
      },
      "source": [
        "import matplotlib.pyplot as plt\n",
        "import numpy as np\n",
        "import keras\n",
        "from keras.datasets import cifar10\n",
        "from keras.models import Sequential\n",
        "from keras.layers import Dense, Dropout, Flatten, Conv2D, MaxPooling2D\n",
        "from pathlib import Path"
      ],
      "execution_count": 1,
      "outputs": []
    },
    {
      "cell_type": "markdown",
      "metadata": {
        "id": "1NFrovNCSD7A"
      },
      "source": [
        "***coding a neural network with keras***\n"
      ]
    },
    {
      "cell_type": "code",
      "metadata": {
        "id": "3YiA5fP8khq3"
      },
      "source": [
        "model = keras.models.Sequential()\n",
        "model.add(Dense(3, input_dim = 2, activation = 'relu')) # you have to define the input_dim in the first layer\n",
        "model.add(Dense(3, activation = 'relu'))\n",
        "model.add(Dense(1)) # the output layer\n",
        "\n",
        "model.compile(optimizer = 'adam', loss = 'mse') \n",
        "#optimizer algorisim is used to train the nn\n",
        "#the loss function misures how right or wrong the nn's predection are"
      ],
      "execution_count": 2,
      "outputs": []
    },
    {
      "cell_type": "markdown",
      "metadata": {
        "id": "RAtdf3giSTt7"
      },
      "source": [
        "AND NOW, TO THE IMAGE RECOGNITION.."
      ]
    },
    {
      "cell_type": "markdown",
      "metadata": {
        "id": "iSFxfhzCfybq"
      },
      "source": [
        "# Dealing with the data of CIFAR10"
      ]
    },
    {
      "cell_type": "code",
      "metadata": {
        "id": "OG3MiVjoUxTu",
        "colab": {
          "base_uri": "https://localhost:8080/"
        },
        "outputId": "4d9eca40-3ce0-4cce-a863-e7b08d9e8485"
      },
      "source": [
        "#list of names for each cifar10 class\n",
        "cifar10_class_names = {0: \"Plane\",\n",
        "                       1: \"Car\",\n",
        "                       2: \"Bird\",\n",
        "                       3: \"Cat\",\n",
        "                       4: \"Deer\",\n",
        "                       5: \"Dog\",\n",
        "                       6: \"Frog\",\n",
        "                       7: \"Horse\",\n",
        "                       8: \"Boat\",\n",
        "                       9: \"Truck\"}\n",
        "\n",
        "#load the entire dataset\n",
        "(x_train, y_train), (x_test, y_test) = cifar10.load_data() #the function returns 2 tuples"
      ],
      "execution_count": 3,
      "outputs": [
        {
          "output_type": "stream",
          "name": "stdout",
          "text": [
            "Downloading data from https://www.cs.toronto.edu/~kriz/cifar-10-python.tar.gz\n",
            "170500096/170498071 [==============================] - 11s 0us/step\n",
            "170508288/170498071 [==============================] - 11s 0us/step\n"
          ]
        }
      ]
    },
    {
      "cell_type": "code",
      "metadata": {
        "colab": {
          "base_uri": "https://localhost:8080/",
          "height": 281
        },
        "id": "2SXlUuamlfq5",
        "outputId": "c2d0dc0b-d7ef-42ee-d8fa-ae0a7c8482f2"
      },
      "source": [
        "i = np.random.randint(1000)\n",
        "\n",
        "sample_image = x_train[i] #grap a random image\n",
        "sample_image_class_num = y_train[i][0] #grap its class number\n",
        "  \n",
        "#get the name of the class by using the dictionary we created\n",
        "sample_image_class_name = cifar10_class_names[sample_image_class_num]\n",
        "\n",
        "#draw some cool stuff\n",
        "plt.imshow(sample_image)\n",
        "plt.title(sample_image_class_name)\n",
        "plt.show()"
      ],
      "execution_count": 4,
      "outputs": [
        {
          "output_type": "display_data",
          "data": {
            "image/png": "[encoded data removed]",
            "text/plain": [
              "<Figure size 432x288 with 1 Axes>"
            ]
          },
          "metadata": {
            "needs_background": "light"
          }
        }
      ]
    },
    {
      "cell_type": "code",
      "metadata": {
        "id": "5_HNlT_AmnaI"
      },
      "source": [
        "# Nromalize the DataSet to 0-1 range\n",
        "x_train = x_train.astype('float32')\n",
        "x_train /= 255.0\n",
        "\n",
        "x_test = x_test.astype('float32')\n",
        "x_test /= 255.0"
      ],
      "execution_count": 5,
      "outputs": []
    },
    {
      "cell_type": "markdown",
      "metadata": {
        "id": "J8f2ASXSpcKb"
      },
      "source": [
        "\n",
        "\n",
        "```\n",
        "considering the y... the Neural Network will have 10 nodes as outputs,\n",
        "so we need a seperate expected value for each output that fits \n",
        "\n",
        "So we need to convert each label from a single element to an array with 10 elements!\n",
        "```\n",
        "\n"
      ]
    },
    {
      "cell_type": "code",
      "metadata": {
        "colab": {
          "base_uri": "https://localhost:8080/"
        },
        "id": "UtIAKZOVpCo6",
        "outputId": "31218426-9834-4fe5-b825-bee3a63aa263"
      },
      "source": [
        "#keras has a very useful function for this\n",
        "from tensorflow.keras.utils import to_categorical\n",
        "\n",
        "y_train = to_categorical(y_train, 10) #as there are 10 nodes\n",
        "y_test = to_categorical(y_test, 10)\n",
        "\n",
        "\n",
        "y_train[6] #now it's very much cooler >>> [0,0,0,0,0,0,0,1,0,0]\n",
        "print(x_train.shape[1]) # a single image's shape for the ' input shape'"
      ],
      "execution_count": 6,
      "outputs": [
        {
          "output_type": "stream",
          "name": "stdout",
          "text": [
            "32\n"
          ]
        }
      ]
    },
    {
      "cell_type": "markdown",
      "metadata": {
        "id": "DJ3dDY0qsoDr"
      },
      "source": [
        "# **Now the data is very ready to the Neural Network**"
      ]
    },
    {
      "cell_type": "code",
      "metadata": {
        "colab": {
          "base_uri": "https://localhost:8080/"
        },
        "id": "E1bXjgr1rBEJ",
        "outputId": "a6c062eb-e090-4604-e0f8-b7717e8829af"
      },
      "source": [
        "#create the model and add the layers [Dense Layer]\n",
        "model = Sequential()\n",
        "model.add(Dense(512, activation = 'relu', input_shape =(32,32,3)))\n",
        "model.add(Dense(10, activation = 'softmax'))\n",
        "\n",
        "#print a summary of the model\n",
        "model.summary()"
      ],
      "execution_count": 7,
      "outputs": [
        {
          "output_type": "stream",
          "name": "stdout",
          "text": [
            "Model: \"sequential_1\"\n",
            "_________________________________________________________________\n",
            "Layer (type)                 Output Shape              Param #   \n",
            "=================================================================\n",
            "dense_3 (Dense)              (None, 32, 32, 512)       2048      \n",
            "_________________________________________________________________\n",
            "dense_4 (Dense)              (None, 32, 32, 10)        5130      \n",
            "=================================================================\n",
            "Total params: 7,178\n",
            "Trainable params: 7,178\n",
            "Non-trainable params: 0\n",
            "_________________________________________________________________\n"
          ]
        }
      ]
    },
    {
      "cell_type": "markdown",
      "metadata": {
        "id": "EWve5zO6zETk"
      },
      "source": [
        "A common choice for 'activation' image recognition is to use 'relu' as the activation function\n",
        "the standard choice for wrking with images 'cuz it works well and it's computationally efficient\n",
        "\n",
        "When doing classification with more than one kind of object,\n",
        "the output layer will almost use a 'softmax' as an activation function of the output layer\n",
        "\n",
        "SOFTMAX : special function that make sure all the output values in this layer add up to exact one\n",
        "as each output is a value that represents the percent likelihood that a certain type of object is detected and all 10 values should add up to 100% or 1 "
      ]
    },
    {
      "cell_type": "code",
      "metadata": {
        "colab": {
          "base_uri": "https://localhost:8080/"
        },
        "id": "cZS22OpzzH7D",
        "outputId": "096757df-af00-4ee7-9a3c-5947b6755523"
      },
      "source": [
        "#create the model and add the layers [Convolution Layers]\n",
        "\n",
        "model = Sequential()\n",
        "\n",
        "#When working with emages, use 2D, for some kind of data like sound-waves you can use 1D\n",
        "#32 felters, each one for detecting one pattern\n",
        "#(3,3) the small window size ,adding padding is optional\n",
        "\n",
        "model.add(Conv2D(32, (3,3), padding = 'same' ,activation= 'relu', input_shape =(32,32,3)))\n",
        "model.add(Conv2D(32, (3,3), activation = 'relu')) # we wont pad the images \n",
        "\n",
        "model.add(Conv2D(64, (3,3), activation = 'relu', padding = 'same'))\n",
        "model.add(Conv2D(64, (3,3), activation = 'relu'))\n",
        "\n",
        "#tell keras, you no longer working with 2D data\n",
        "model.add(Flatten())\n",
        "\n",
        "model.add(Dense(512, activation = 'relu'))\n",
        "model.add(Dense(10, activation = 'softmax'))\n",
        "\n",
        "#print a summary of the model\n",
        "model.summary()"
      ],
      "execution_count": 8,
      "outputs": [
        {
          "output_type": "stream",
          "name": "stdout",
          "text": [
            "Model: \"sequential_2\"\n",
            "_________________________________________________________________\n",
            "Layer (type)                 Output Shape              Param #   \n",
            "=================================================================\n",
            "conv2d (Conv2D)              (None, 32, 32, 32)        896       \n",
            "_________________________________________________________________\n",
            "conv2d_1 (Conv2D)            (None, 30, 30, 32)        9248      \n",
            "_________________________________________________________________\n",
            "conv2d_2 (Conv2D)            (None, 30, 30, 64)        18496     \n",
            "_________________________________________________________________\n",
            "conv2d_3 (Conv2D)            (None, 28, 28, 64)        36928     \n",
            "_________________________________________________________________\n",
            "flatten (Flatten)            (None, 50176)             0         \n",
            "_________________________________________________________________\n",
            "dense_5 (Dense)              (None, 512)               25690624  \n",
            "_________________________________________________________________\n",
            "dense_6 (Dense)              (None, 10)                5130      \n",
            "=================================================================\n",
            "Total params: 25,761,322\n",
            "Trainable params: 25,761,322\n",
            "Non-trainable params: 0\n",
            "_________________________________________________________________\n"
          ]
        }
      ]
    },
    {
      "cell_type": "markdown",
      "metadata": {
        "id": "IV_BI0sA8UTP"
      },
      "source": [
        "Max pooling, is where we scale down the output of the convolutional layers to keeping only the larger value and trhowing away the lower ones.\n",
        "\n",
        "This makes the neural network more efficient by throwing away the lest useful data!\n",
        "we do maz pooling after a block of convolutional layer"
      ]
    },
    {
      "cell_type": "code",
      "metadata": {
        "colab": {
          "base_uri": "https://localhost:8080/"
        },
        "id": "FWVKt1R-7qkQ",
        "outputId": "4f9d1942-5a6c-4039-c60e-30109f18c801"
      },
      "source": [
        "#create the model and add the layers [Max pooling]\n",
        "\n",
        "model = Sequential()\n",
        "\n",
        "model.add(Conv2D(32, (3,3), padding = 'same' ,activation= 'relu', input_shape =(32,32,3)))\n",
        "model.add(Conv2D(32, (3,3), activation = 'relu')) # we wont pad the images \n",
        "model.add(MaxPooling2D(pool_size = (2,2)))\n",
        "\n",
        "model.add(Conv2D(64, (3,3), activation = 'relu', padding = 'same'))\n",
        "model.add(Conv2D(64, (3,3), activation = 'relu'))\n",
        "model.add(MaxPooling2D(pool_size = (2,2)))\n",
        "\n",
        "model.add(Flatten())\n",
        "\n",
        "model.add(Dense(512, activation = 'relu'))\n",
        "model.add(Dense(10, activation = 'softmax'))\n",
        "\n",
        "\n",
        "#print a summary of the model\n",
        "model.summary()"
      ],
      "execution_count": 9,
      "outputs": [
        {
          "output_type": "stream",
          "name": "stdout",
          "text": [
            "Model: \"sequential_3\"\n",
            "_________________________________________________________________\n",
            "Layer (type)                 Output Shape              Param #   \n",
            "=================================================================\n",
            "conv2d_4 (Conv2D)            (None, 32, 32, 32)        896       \n",
            "_________________________________________________________________\n",
            "conv2d_5 (Conv2D)            (None, 30, 30, 32)        9248      \n",
            "_________________________________________________________________\n",
            "max_pooling2d (MaxPooling2D) (None, 15, 15, 32)        0         \n",
            "_________________________________________________________________\n",
            "conv2d_6 (Conv2D)            (None, 15, 15, 64)        18496     \n",
            "_________________________________________________________________\n",
            "conv2d_7 (Conv2D)            (None, 13, 13, 64)        36928     \n",
            "_________________________________________________________________\n",
            "max_pooling2d_1 (MaxPooling2 (None, 6, 6, 64)          0         \n",
            "_________________________________________________________________\n",
            "flatten_1 (Flatten)          (None, 2304)              0         \n",
            "_________________________________________________________________\n",
            "dense_7 (Dense)              (None, 512)               1180160   \n",
            "_________________________________________________________________\n",
            "dense_8 (Dense)              (None, 10)                5130      \n",
            "=================================================================\n",
            "Total params: 1,250,858\n",
            "Trainable params: 1,250,858\n",
            "Non-trainable params: 0\n",
            "_________________________________________________________________\n"
          ]
        }
      ]
    },
    {
      "cell_type": "markdown",
      "metadata": {
        "id": "ymFTfyZT9JuO"
      },
      "source": [
        "**Notice that after MaxPooling the Params decreased!, so it will take less time and basically more efficint!**"
      ]
    },
    {
      "cell_type": "markdown",
      "metadata": {
        "id": "RpDv_3ng9qQO"
      },
      "source": [
        "One more trick to make the Neural Network perform better, is adding a dropout layers.\n",
        "One of the problems of Neural Networks is that they tend to memorize the training data instead of actually learning how to tell differernt objects apart.\n",
        "we can force the Neural Network to try harder to learn without memorization, \n",
        "the idea is  that between certain layers we randomly throw away some of the data by cutting some of the connections between the layers.\n",
        "-This Is Called Dropout\n",
        "we usually add it after a group of dense layers\n",
        "or right after MaxPooling layers"
      ]
    },
    {
      "cell_type": "code",
      "metadata": {
        "colab": {
          "base_uri": "https://localhost:8080/"
        },
        "id": "3vtGpTN39HAg",
        "outputId": "482ed48c-9815-4099-d8c0-816a734c7058"
      },
      "source": [
        "#create the model and add the layers [Dropout]\n",
        "\n",
        "model = Sequential()\n",
        "\n",
        "model.add(Conv2D(32, (3,3), padding = 'same' ,activation= 'relu', input_shape =(32,32,3)))\n",
        "model.add(Conv2D(32, (3,3), activation = 'relu')) # we wont pad the images \n",
        "model.add(MaxPooling2D(pool_size = (2,2)))\n",
        "model.add(Dropout(0.25)) #0.25 to 0.50 works well\n",
        "\n",
        "model.add(Conv2D(64, (3,3), activation = 'relu', padding = 'same'))\n",
        "model.add(Conv2D(64, (3,3), activation = 'relu'))\n",
        "model.add(MaxPooling2D(pool_size = (2,2)))\n",
        "model.add(Dropout(0.25))\n",
        "\n",
        "model.add(Flatten())\n",
        "\n",
        "model.add(Dense(512, activation = 'relu'))\n",
        "model.add(Dropout(0.50)) #make it suffer to learn\n",
        "\n",
        "model.add(Dense(10, activation = 'softmax'))\n",
        "\n",
        "\n",
        "#print a summary of the model\n",
        "model.summary()"
      ],
      "execution_count": 10,
      "outputs": [
        {
          "output_type": "stream",
          "name": "stdout",
          "text": [
            "Model: \"sequential_4\"\n",
            "_________________________________________________________________\n",
            "Layer (type)                 Output Shape              Param #   \n",
            "=================================================================\n",
            "conv2d_8 (Conv2D)            (None, 32, 32, 32)        896       \n",
            "_________________________________________________________________\n",
            "conv2d_9 (Conv2D)            (None, 30, 30, 32)        9248      \n",
            "_________________________________________________________________\n",
            "max_pooling2d_2 (MaxPooling2 (None, 15, 15, 32)        0         \n",
            "_________________________________________________________________\n",
            "dropout (Dropout)            (None, 15, 15, 32)        0         \n",
            "_________________________________________________________________\n",
            "conv2d_10 (Conv2D)           (None, 15, 15, 64)        18496     \n",
            "_________________________________________________________________\n",
            "conv2d_11 (Conv2D)           (None, 13, 13, 64)        36928     \n",
            "_________________________________________________________________\n",
            "max_pooling2d_3 (MaxPooling2 (None, 6, 6, 64)          0         \n",
            "_________________________________________________________________\n",
            "dropout_1 (Dropout)          (None, 6, 6, 64)          0         \n",
            "_________________________________________________________________\n",
            "flatten_2 (Flatten)          (None, 2304)              0         \n",
            "_________________________________________________________________\n",
            "dense_9 (Dense)              (None, 512)               1180160   \n",
            "_________________________________________________________________\n",
            "dropout_2 (Dropout)          (None, 512)               0         \n",
            "_________________________________________________________________\n",
            "dense_10 (Dense)             (None, 10)                5130      \n",
            "=================================================================\n",
            "Total params: 1,250,858\n",
            "Trainable params: 1,250,858\n",
            "Non-trainable params: 0\n",
            "_________________________________________________________________\n"
          ]
        }
      ]
    },
    {
      "cell_type": "markdown",
      "metadata": {
        "id": "2chA7LPV_RI3"
      },
      "source": [
        "**Our cool Neural Network is Done and ready :D**"
      ]
    },
    {
      "cell_type": "markdown",
      "metadata": {
        "id": "Ex7-hVWn_Xu8"
      },
      "source": [
        "# Compiling, training, and testing"
      ]
    },
    {
      "cell_type": "markdown",
      "metadata": {
        "id": "oY1G3RH4_mYZ"
      },
      "source": [
        "when we compile the Neural Network we tell keras we actually wanna create the Neural Network in the memory, and how we'll be training it and measuring its accuracy.\n",
        "\n",
        "**considering the loss function:**\n",
        "\n",
        "  if you trying to classify and image into different categories use 'categorical_crossentropy'\n",
        "\n",
        "\n",
        "  if you're only checking if the image belongs to one category, use 'binary_crossentropy'\n",
        "\n",
        "**considering the optimization algorithm:**\n",
        "  use 'adam'\n",
        "\n",
        "**tell keras what metrics we wanna report, for this use ['accuracy']**"
      ]
    },
    {
      "cell_type": "code",
      "metadata": {
        "id": "P61FOJ2x_HqQ"
      },
      "source": [
        "#Compile the Neural Network\n",
        "model.compile(loss = 'categorical_crossentropy', optimizer = 'adam', metrics = ['accuracy'])\n"
      ],
      "execution_count": 11,
      "outputs": []
    },
    {
      "cell_type": "markdown",
      "metadata": {
        "id": "Yq9-dooLC-PZ"
      },
      "source": [
        "**The \"batch_size\"** is how many emages we wanna feed into the network at once during training. If we set it too low, trining will take so long and i might never finish. If we set the number too high, we'll ran out of memory of out computer.\n",
        "\n",
        "**Typical batch size is between 32 and 128 images**\n",
        "\n",
        "**epochs** are how many time we wanna go through the entire dataset during the training process\n",
        "\n",
        "\n",
        "***and please please please please... save the training to a variable in order not to lose all your training***\n",
        "\n",
        "CAUTION: before training the data, I'm creating a validation data seperated from the test set"
      ]
    },
    {
      "cell_type": "code",
      "metadata": {
        "colab": {
          "base_uri": "https://localhost:8080/"
        },
        "id": "_SQlSR_iKuHE",
        "outputId": "db955882-3d04-4439-aa4b-54efbb75062f"
      },
      "source": [
        "x_validate = x_test[:7000]\n",
        "y_validate = y_test[:7000]\n",
        "\n",
        "x_test = x_test[7000:]\n",
        "y_test = y_test[7000:]"
      ],
      "execution_count": 16,
      "outputs": [
        {
          "output_type": "execute_result",
          "data": {
            "text/plain": [
              "3000"
            ]
          },
          "metadata": {},
          "execution_count": 16
        }
      ]
    },
    {
      "cell_type": "code",
      "metadata": {
        "colab": {
          "base_uri": "https://localhost:8080/"
        },
        "id": "G3A1stizCqfx",
        "outputId": "5e282dd8-7f56-4dcc-c9e5-72b149a894ef"
      },
      "source": [
        "#Start the Training Process\n",
        "\n",
        "history = model.fit(x_train, y_train, batch_size = 320, epochs = 30, validation_data = (x_validate, y_validate))\n",
        "\n",
        "\n",
        "#Saving the structure of the neural network itself\n",
        "model_structure = model.to_json()\n",
        "f = Path(\"model_structure.json\")\n",
        "f.write_text(model_structure)\n",
        "\n",
        "#Saving the weights of the Neural Network\n",
        "model.save_weights('model_weights.h5')\n"
      ],
      "execution_count": 17,
      "outputs": [
        {
          "output_type": "stream",
          "name": "stdout",
          "text": [
            "Epoch 1/30\n",
            "157/157 [==============================] - 213s 1s/step - loss: 1.1002 - accuracy: 0.6111 - val_loss: 0.9839 - val_accuracy: 0.6543\n",
            "Epoch 2/30\n",
            "157/157 [==============================] - 213s 1s/step - loss: 0.9909 - accuracy: 0.6498 - val_loss: 0.9275 - val_accuracy: 0.6731\n",
            "Epoch 3/30\n",
            "157/157 [==============================] - 213s 1s/step - loss: 0.9183 - accuracy: 0.6769 - val_loss: 0.8265 - val_accuracy: 0.7119\n",
            "Epoch 4/30\n",
            "157/157 [==============================] - 213s 1s/step - loss: 0.8597 - accuracy: 0.6986 - val_loss: 0.8103 - val_accuracy: 0.7137\n",
            "Epoch 5/30\n",
            "157/157 [==============================] - 212s 1s/step - loss: 0.8020 - accuracy: 0.7186 - val_loss: 0.7630 - val_accuracy: 0.7297\n",
            "Epoch 6/30\n",
            "157/157 [==============================] - 211s 1s/step - loss: 0.7652 - accuracy: 0.7306 - val_loss: 0.7206 - val_accuracy: 0.7496\n",
            "Epoch 7/30\n",
            "157/157 [==============================] - 211s 1s/step - loss: 0.7194 - accuracy: 0.7476 - val_loss: 0.6937 - val_accuracy: 0.7604\n",
            "Epoch 8/30\n",
            "157/157 [==============================] - 212s 1s/step - loss: 0.6851 - accuracy: 0.7576 - val_loss: 0.6689 - val_accuracy: 0.7630\n",
            "Epoch 9/30\n",
            "157/157 [==============================] - 211s 1s/step - loss: 0.6589 - accuracy: 0.7687 - val_loss: 0.6834 - val_accuracy: 0.7622\n",
            "Epoch 10/30\n",
            "157/157 [==============================] - 213s 1s/step - loss: 0.6261 - accuracy: 0.7796 - val_loss: 0.6500 - val_accuracy: 0.7719\n",
            "Epoch 11/30\n",
            "157/157 [==============================] - 212s 1s/step - loss: 0.6014 - accuracy: 0.7860 - val_loss: 0.6356 - val_accuracy: 0.7802\n",
            "Epoch 12/30\n",
            "157/157 [==============================] - 212s 1s/step - loss: 0.5740 - accuracy: 0.7961 - val_loss: 0.6228 - val_accuracy: 0.7840\n",
            "Epoch 13/30\n",
            "157/157 [==============================] - 212s 1s/step - loss: 0.5546 - accuracy: 0.8021 - val_loss: 0.6192 - val_accuracy: 0.7861\n",
            "Epoch 14/30\n",
            "157/157 [==============================] - 212s 1s/step - loss: 0.5359 - accuracy: 0.8110 - val_loss: 0.6164 - val_accuracy: 0.7833\n",
            "Epoch 15/30\n",
            "157/157 [==============================] - 211s 1s/step - loss: 0.5111 - accuracy: 0.8197 - val_loss: 0.6147 - val_accuracy: 0.7901\n",
            "Epoch 16/30\n",
            "157/157 [==============================] - 213s 1s/step - loss: 0.5007 - accuracy: 0.8211 - val_loss: 0.6256 - val_accuracy: 0.7873\n",
            "Epoch 17/30\n",
            "157/157 [==============================] - 213s 1s/step - loss: 0.4777 - accuracy: 0.8285 - val_loss: 0.6237 - val_accuracy: 0.7855\n",
            "Epoch 18/30\n",
            "157/157 [==============================] - 213s 1s/step - loss: 0.4656 - accuracy: 0.8348 - val_loss: 0.6295 - val_accuracy: 0.7892\n",
            "Epoch 19/30\n",
            "157/157 [==============================] - 213s 1s/step - loss: 0.4418 - accuracy: 0.8436 - val_loss: 0.6203 - val_accuracy: 0.7914\n",
            "Epoch 20/30\n",
            "157/157 [==============================] - 212s 1s/step - loss: 0.4347 - accuracy: 0.8438 - val_loss: 0.6098 - val_accuracy: 0.7923\n",
            "Epoch 21/30\n",
            "157/157 [==============================] - 211s 1s/step - loss: 0.4204 - accuracy: 0.8484 - val_loss: 0.6139 - val_accuracy: 0.7935\n",
            "Epoch 22/30\n",
            "157/157 [==============================] - 211s 1s/step - loss: 0.4008 - accuracy: 0.8571 - val_loss: 0.6170 - val_accuracy: 0.7958\n",
            "Epoch 23/30\n",
            "157/157 [==============================] - 213s 1s/step - loss: 0.4038 - accuracy: 0.8571 - val_loss: 0.6024 - val_accuracy: 0.7972\n",
            "Epoch 24/30\n",
            "157/157 [==============================] - 213s 1s/step - loss: 0.3859 - accuracy: 0.8610 - val_loss: 0.6176 - val_accuracy: 0.7989\n",
            "Epoch 25/30\n",
            "157/157 [==============================] - 213s 1s/step - loss: 0.3754 - accuracy: 0.8662 - val_loss: 0.5956 - val_accuracy: 0.8036\n",
            "Epoch 26/30\n",
            "157/157 [==============================] - 213s 1s/step - loss: 0.3637 - accuracy: 0.8711 - val_loss: 0.5986 - val_accuracy: 0.7991\n",
            "Epoch 27/30\n",
            "157/157 [==============================] - 213s 1s/step - loss: 0.3581 - accuracy: 0.8715 - val_loss: 0.6182 - val_accuracy: 0.7988\n",
            "Epoch 28/30\n",
            "157/157 [==============================] - 213s 1s/step - loss: 0.3432 - accuracy: 0.8772 - val_loss: 0.6114 - val_accuracy: 0.8031\n",
            "Epoch 29/30\n",
            "157/157 [==============================] - 213s 1s/step - loss: 0.3375 - accuracy: 0.8782 - val_loss: 0.6238 - val_accuracy: 0.7999\n",
            "Epoch 30/30\n",
            "157/157 [==============================] - 214s 1s/step - loss: 0.3363 - accuracy: 0.8787 - val_loss: 0.6063 - val_accuracy: 0.8017\n"
          ]
        }
      ]
    },
    {
      "cell_type": "code",
      "metadata": {
        "id": "H2XWg4_CRDuC",
        "colab": {
          "base_uri": "https://localhost:8080/",
          "height": 282
        },
        "outputId": "516a2340-ae1e-4ff5-f823-fde651498a69"
      },
      "source": [
        "import matplotlib.pyplot as plt\n",
        "\n",
        "plt.scatter(history.epoch, history.history[\"loss\"])\n",
        "plt.scatter(history.epoch, history.history[\"val_loss\"])"
      ],
      "execution_count": 18,
      "outputs": [
        {
          "output_type": "execute_result",
          "data": {
            "text/plain": [
              "<matplotlib.collections.PathCollection at 0x7f71e8a44710>"
            ]
          },
          "metadata": {},
          "execution_count": 18
        },
        {
          "output_type": "display_data",
          "data": {
            "image/png": "[encoded data removed]",
            "text/plain": [
              "<Figure size 432x288 with 1 Axes>"
            ]
          },
          "metadata": {
            "needs_background": "light"
          }
        }
      ]
    },
    {
      "cell_type": "code",
      "metadata": {
        "colab": {
          "base_uri": "https://localhost:8080/"
        },
        "id": "CHrCK1JQI5rX",
        "outputId": "401410fb-69c0-4d60-d283-20dbe3d74458"
      },
      "source": [
        "score = model.evaluate(x_test, y_test, verbose = 1)\n",
        "print('Test accuracy:', score[1]) \n"
      ],
      "execution_count": 21,
      "outputs": [
        {
          "output_type": "stream",
          "name": "stdout",
          "text": [
            "94/94 [==============================] - 3s 36ms/step - loss: 0.6068 - accuracy: 0.7977\n",
            "Test accuracy: 0.7976666688919067\n"
          ]
        }
      ]
    },
    {
      "cell_type": "code",
      "metadata": {
        "colab": {
          "base_uri": "https://localhost:8080/"
        },
        "id": "3yImcvGAmt3l",
        "outputId": "f4d128eb-e9f6-4f5d-b869-16567ab3273f"
      },
      "source": [
        "# list all data in history\n",
        "print(history.history.keys())"
      ],
      "execution_count": 22,
      "outputs": [
        {
          "output_type": "stream",
          "name": "stdout",
          "text": [
            "dict_keys(['loss', 'accuracy', 'val_loss', 'val_accuracy'])\n"
          ]
        }
      ]
    },
    {
      "cell_type": "code",
      "metadata": {
        "colab": {
          "base_uri": "https://localhost:8080/",
          "height": 573
        },
        "id": "BDrlNBc-npr1",
        "outputId": "ab2fc211-a875-4fb7-dbdc-1e22a78cbc6d"
      },
      "source": [
        "# summarize history for accuracy\n",
        "plt.plot(history.history['accuracy'])\n",
        "plt.plot(history.history['val_accuracy'])\n",
        "plt.title('model accuracy')\n",
        "plt.ylabel('accuracy')\n",
        "plt.xlabel('epoch')\n",
        "plt.legend(['train', 'test'], loc='upper left')\n",
        "plt.show()\n",
        "\n",
        "# summarize history for loss\n",
        "plt.plot(history.history['loss'])\n",
        "plt.plot(history.history['val_loss'])\n",
        "plt.title('model loss')\n",
        "plt.ylabel('loss')\n",
        "plt.xlabel('epoch')\n",
        "plt.legend(['train', 'test'], loc='upper left')\n",
        "plt.show()"
      ],
      "execution_count": 23,
      "outputs": [
        {
          "output_type": "display_data",
          "data": {
            "image/png": "[encoded data removed]",
            "text/plain": [
              "<Figure size 432x288 with 1 Axes>"
            ]
          },
          "metadata": {
            "needs_background": "light"
          }
        },
        {
          "output_type": "display_data",
          "data": {
            "image/png": "[encoded data removed]",
            "text/plain": [
              "<Figure size 432x288 with 1 Axes>"
            ]
          },
          "metadata": {
            "needs_background": "light"
          }
        }
      ]
    }
  ]
}